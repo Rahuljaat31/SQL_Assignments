{
 "cells": [
  {
   "cell_type": "markdown",
   "metadata": {},
   "source": [
    "Q-1. Write an SQL query to fetch “FIRST_NAME” from Worker table using the alias\n",
    "name as <WORKER_NAME>."
   ]
  },
  {
   "cell_type": "markdown",
   "metadata": {},
   "source": [
    "Ans.1\n",
    "#IN SQL\n",
    "select first_name as worker_name from worker; \n",
    "\n",
    "#IN Python\n",
    "cursor.execute('select first_name as worker_name from worker')\n"
   ]
  },
  {
   "cell_type": "markdown",
   "metadata": {},
   "source": [
    "Q-2. Write an SQL query to fetch unique values of DEPARTMENT from Worker table."
   ]
  },
  {
   "cell_type": "markdown",
   "metadata": {},
   "source": [
    "Ans.2\n",
    "#IN SQL\n",
    "SELECT DISTINCT DEPARTMENT FROM Worker;\n",
    "\n",
    "#IN Python\n",
    "cursor.execute('select distinct department from Worker')"
   ]
  },
  {
   "cell_type": "markdown",
   "metadata": {},
   "source": [
    "Q-3. Write an SQL query to show the last 5 record from a table."
   ]
  },
  {
   "cell_type": "markdown",
   "metadata": {},
   "source": [
    "Ans.3\n",
    "#IN SQL\n",
    "SELECT * from Worker ORDER by id DESC LIMIT 5;\n",
    "\n",
    "#IN Python\n",
    "cursor.execute('select * from Worker ORDER by id DESC LIMIT 5')"
   ]
  },
  {
   "cell_type": "code",
   "execution_count": 16,
   "metadata": {},
   "outputs": [
    {
     "name": "stdout",
     "output_type": "stream",
     "text": [
      "Requirement already satisfied: mysql-connector-python in c:\\users\\rahul\\anaconda3\\lib\\site-packages (8.0.28)\n",
      "Requirement already satisfied: protobuf>=3.0.0 in c:\\users\\rahul\\anaconda3\\lib\\site-packages (from mysql-connector-python) (3.19.4)\n"
     ]
    },
    {
     "data": {
      "text/plain": [
       "[('assignment',),\n",
       " ('information_schema',),\n",
       " ('mysql',),\n",
       " ('performance_schema',),\n",
       " ('sys',),\n",
       " ('testrahul',),\n",
       " ('testsql',)]"
      ]
     },
     "execution_count": 16,
     "metadata": {},
     "output_type": "execute_result"
    }
   ],
   "source": [
    "!pip install mysql-connector-python\n",
    "\n",
    "import mysql.connector as conn\n",
    "\n",
    "mydb = conn.connect(host = 'localhost', user = 'root', passwd = 'root1234')\n",
    "\n",
    "mydb\n",
    "\n",
    "cursor = mydb.cursor()\n",
    "\n",
    "cursor.execute(\"show databases\")\n",
    "\n",
    "cursor.fetchall()"
   ]
  },
  {
   "cell_type": "code",
   "execution_count": 17,
   "metadata": {},
   "outputs": [
    {
     "data": {
      "text/plain": [
       "[('rahul', 'jaat', 'him', 1),\n",
       " ('jimmy', 'jaat', 'him', 2),\n",
       " ('jhon', 'jaat', 'fcc', 3),\n",
       " ('shalu', 'jaat', 'hcl', 4),\n",
       " ('parul', 'kumar', 'radico', 5),\n",
       " ('jack', 'panwar', 'bank', 6),\n",
       " ('tom', 'kumar', 'ar', 7)]"
      ]
     },
     "execution_count": 17,
     "metadata": {},
     "output_type": "execute_result"
    }
   ],
   "source": [
    "cursor.execute(\"use assignment\")\n",
    "cursor.execute('select * from Worker')\n",
    "cursor.fetchall()"
   ]
  },
  {
   "cell_type": "code",
   "execution_count": 5,
   "metadata": {},
   "outputs": [
    {
     "data": {
      "text/plain": [
       "[('rahul',),\n",
       " ('jimmy',),\n",
       " ('jhon',),\n",
       " ('shalu',),\n",
       " ('parul',),\n",
       " ('jack',),\n",
       " ('tom',)]"
      ]
     },
     "execution_count": 5,
     "metadata": {},
     "output_type": "execute_result"
    }
   ],
   "source": [
    "#Ans.1\n",
    "cursor.execute(\"use assignment\")\n",
    "cursor.execute('select first_name as worker_name from worker')\n",
    "cursor.fetchall()"
   ]
  },
  {
   "cell_type": "code",
   "execution_count": 6,
   "metadata": {},
   "outputs": [
    {
     "data": {
      "text/plain": [
       "[('him',), ('fcc',), ('hcl',), ('radico',), ('bank',), ('ar',)]"
      ]
     },
     "execution_count": 6,
     "metadata": {},
     "output_type": "execute_result"
    }
   ],
   "source": [
    "#Ans.2\n",
    "cursor.execute('select distinct department from Worker')\n",
    "cursor.fetchall()"
   ]
  },
  {
   "cell_type": "code",
   "execution_count": 7,
   "metadata": {},
   "outputs": [
    {
     "data": {
      "text/plain": [
       "[('tom', 'kumar', 'ar', 7),\n",
       " ('jack', 'panwar', 'bank', 6),\n",
       " ('parul', 'kumar', 'radico', 5),\n",
       " ('shalu', 'jaat', 'hcl', 4),\n",
       " ('jhon', 'jaat', 'fcc', 3)]"
      ]
     },
     "execution_count": 7,
     "metadata": {},
     "output_type": "execute_result"
    }
   ],
   "source": [
    "#Ans.3\n",
    "cursor.execute('select * from Worker ORDER by id DESC LIMIT 5')\n",
    "cursor.fetchall()"
   ]
  },
  {
   "cell_type": "code",
   "execution_count": null,
   "metadata": {},
   "outputs": [],
   "source": []
  }
 ],
 "metadata": {
  "kernelspec": {
   "display_name": "Python 3",
   "language": "python",
   "name": "python3"
  },
  "language_info": {
   "codemirror_mode": {
    "name": "ipython",
    "version": 3
   },
   "file_extension": ".py",
   "mimetype": "text/x-python",
   "name": "python",
   "nbconvert_exporter": "python",
   "pygments_lexer": "ipython3",
   "version": "3.8.3"
  }
 },
 "nbformat": 4,
 "nbformat_minor": 4
}
