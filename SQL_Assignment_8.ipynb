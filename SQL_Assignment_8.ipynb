{
 "cells": [
  {
   "cell_type": "markdown",
   "metadata": {},
   "source": [
    "Q-15. Write an SQL query to fetch intersecting records of two tables."
   ]
  },
  {
   "cell_type": "code",
   "execution_count": null,
   "metadata": {},
   "outputs": [],
   "source": [
    "Ans.15\n",
    "#Creating table and inserting values\n",
    "\n",
    "create table Customers (ID int,Name varchar(25), Address varchar(25), Age int, Salary int);\n",
    "\n",
    "insert into Customers(ID, Name, Address, Age,Salary) values (1, 'Rahul', 'Delhi',30,20000);\n",
    "\n",
    "insert into Customers(ID, Name, Address, Age,Salary) values (2, 'Parul', 'Mumbai',40,30000);\n",
    "\n",
    "insert into Customers(ID, Name, Address, Age,Salary) values (3, 'Sarul', 'Chennai',35,25000);\n",
    "\n",
    "insert into Customers(ID, Name, Address, Age,Salary) values (4, 'Arul', 'Banglore',50,40000);\n",
    "\n",
    "insert into Customers(ID, Name, Address, Age,Salary) values (5, 'Ram', 'Noida',25,15000);\n",
    "\n",
    "insert into Customers(ID, Name, Address, Age,Salary) values (6, 'Lucky', 'Jaipur',32,60000);\n",
    "\n",
    "insert into Customers(ID, Name, Address, Age,Salary) values (7, 'James', 'Goa',35,62000);\n",
    "\n",
    "\n",
    "create table Orders (OiD int, Customer_id int, Amount int);\n",
    "\n",
    "insert into Orders(OiD, Customer_id, Amount) values (102, 3, 3000);\n",
    "\n",
    "insert into Orders(OiD, Customer_id, Amount) values (100, 3, 1500);\n",
    "\n",
    "insert into Orders(OiD, Customer_id, Amount) values (101, 2, 1560);\n",
    "\n",
    "insert into Orders(OiD, Customer_id, Amount) values (103, 4, 2060);\n",
    "\n",
    "select * from Customers left join orders on customers.ID=orders.oid union select * from Orders right join Customers on customers.ID=orders.oid;\n",
    "\n"
   ]
  },
  {
   "cell_type": "markdown",
   "metadata": {},
   "source": [
    "Q-16. Write an SQL query to show records from one table that another table does not have."
   ]
  },
  {
   "cell_type": "code",
   "execution_count": null,
   "metadata": {},
   "outputs": [],
   "source": [
    "Ans.16\n",
    "\n",
    "select * from customers left join orders on customers.id=orders.oid;\n"
   ]
  }
 ],
 "metadata": {
  "kernelspec": {
   "display_name": "Python 3",
   "language": "python",
   "name": "python3"
  },
  "language_info": {
   "codemirror_mode": {
    "name": "ipython",
    "version": 3
   },
   "file_extension": ".py",
   "mimetype": "text/x-python",
   "name": "python",
   "nbconvert_exporter": "python",
   "pygments_lexer": "ipython3",
   "version": "3.8.3"
  }
 },
 "nbformat": 4,
 "nbformat_minor": 4
}
