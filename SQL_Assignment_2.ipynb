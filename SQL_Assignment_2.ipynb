{
 "cells": [
  {
   "cell_type": "markdown",
   "metadata": {},
   "source": [
    "Q-1. Write an SQL query to print the first three characters of  FIRST_NAME from Worker\n",
    "table."
   ]
  },
  {
   "cell_type": "markdown",
   "metadata": {},
   "source": [
    "Ans.1\n",
    "IN SQL\n",
    "\n",
    "SELECT substr(first_name,1,3) FROM worker;\n",
    "\n",
    "IN Python\n",
    "\n",
    "cursor.execute('SELECT substr(first_name,1,3) FROM worker')"
   ]
  },
  {
   "cell_type": "markdown",
   "metadata": {},
   "source": [
    "Q-2. Write an SQL query to find the position of the alphabet (‘a’) in the first name\n",
    "column ‘Amitabh’ from Worker table."
   ]
  },
  {
   "cell_type": "markdown",
   "metadata": {},
   "source": [
    "Ans.2\n",
    "IN SQL\n",
    "\n",
    "SELECT POSITION('a' IN first_name) FROM Worker WHERE first_name = 'Amitabh';\n",
    "\n",
    "IN Python\n",
    "\n",
    "cursor.execute('SELECT POSITION(\"a\" IN first_name) FROM Worker WHERE first_name = \"Amitabh\"')"
   ]
  },
  {
   "cell_type": "markdown",
   "metadata": {},
   "source": [
    "Q-3. Write an SQL query to print the name of employees having the highest salary in each\n",
    "department."
   ]
  },
  {
   "cell_type": "markdown",
   "metadata": {},
   "source": [
    "Ans.3\n",
    "IN SQL\n",
    "\n",
    "SELECT first_name, max(salary), department from worker group by department\n",
    "\n",
    "IN Python\n",
    "\n",
    "cursor.execute('SELECT first_name, max(salary), department from worker group by department')"
   ]
  }
 ],
 "metadata": {
  "kernelspec": {
   "display_name": "Python 3",
   "language": "python",
   "name": "python3"
  },
  "language_info": {
   "codemirror_mode": {
    "name": "ipython",
    "version": 3
   },
   "file_extension": ".py",
   "mimetype": "text/x-python",
   "name": "python",
   "nbconvert_exporter": "python",
   "pygments_lexer": "ipython3",
   "version": "3.8.3"
  }
 },
 "nbformat": 4,
 "nbformat_minor": 4
}
