{
 "cells": [
  {
   "cell_type": "markdown",
   "metadata": {},
   "source": [
    "Q-1. Write an SQL query to print details of the Workers who have joined in Feb’2014."
   ]
  },
  {
   "cell_type": "code",
   "execution_count": null,
   "metadata": {},
   "outputs": [],
   "source": [
    "Ans.1\n",
    "SELECT * FROM Worker WHERE YEAR(JOINING_DATE) = 2014 AND MONTH(JOINING_DATE) = 02;"
   ]
  },
  {
   "cell_type": "markdown",
   "metadata": {},
   "source": [
    "Q-2. Write an SQL query to fetch duplicate records having matching data in some fields of\n",
    "a table."
   ]
  },
  {
   "cell_type": "code",
   "execution_count": null,
   "metadata": {},
   "outputs": [],
   "source": [
    "Ans.2\n",
    "SELECT column_name, COUNT(column_name) FROM Worker GROUP BY FEILD HAVING COUNT(column_name) > 1;"
   ]
  },
  {
   "cell_type": "markdown",
   "metadata": {},
   "source": [
    "Q-3. How to remove duplicate rows from Employees table."
   ]
  },
  {
   "cell_type": "code",
   "execution_count": null,
   "metadata": {},
   "outputs": [],
   "source": [
    "Ans.3\n",
    "#used below table for query\n",
    "CREATE TABLE Employees (\n",
    "    ID INT PRIMARY KEY AUTO_INCREMENT NOT NULL,\n",
    "    First_name VARCHAR(40),\n",
    "    Last_name VARCHAR(40),\n",
    "    Country VARCHAR(40)\n",
    ");\n",
    "INSERT INTO Employees VALUES \n",
    "(1,'Ram','Singh','USA'),\n",
    "(2,'Ram','Singh','USA'),\n",
    "(3,'Ram','Singh','USA'),\n",
    "(4,'Jhon','Doe','UK'),\n",
    "(5,'Jhon','Doe','UK'),\n",
    "(6,'Jhon','Doe','UK');\n",
    "\n",
    "# Below is the quer to remove duplicate rows from Employees table\n",
    "\n",
    "DELETE e1.* FROM employees e1 INNER JOIN employees e2 WHERE e1.id > e2.id AND e1.First_name = e2.First_name AND\n",
    " e1.Last_name = e2.Last_name AND e1.Country = e2.Country;"
   ]
  }
 ],
 "metadata": {
  "kernelspec": {
   "display_name": "Python 3",
   "language": "python",
   "name": "python3"
  },
  "language_info": {
   "codemirror_mode": {
    "name": "ipython",
    "version": 3
   },
   "file_extension": ".py",
   "mimetype": "text/x-python",
   "name": "python",
   "nbconvert_exporter": "python",
   "pygments_lexer": "ipython3",
   "version": "3.8.3"
  }
 },
 "nbformat": 4,
 "nbformat_minor": 4
}
